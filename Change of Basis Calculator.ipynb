{
 "cells": [
  {
   "cell_type": "code",
   "execution_count": 12,
   "metadata": {},
   "outputs": [
    {
     "name": "stdout",
     "output_type": "stream",
     "text": [
      "[[-21.  -5. -12.]\n",
      " [ 34.  11.  21.]]\n"
     ]
    }
   ],
   "source": [
    "import numpy as np \n",
    "\n",
    "A = np.matrix([[2, 3, 4], [8, 5, 1]])\n",
    "V = np.matrix([[1, 0, 1], [1, 1, 0], [0, 1, 1]]) \n",
    "W = np.matrix([[3, 2], [1, 1]])  \n",
    "\n",
    "def matrixChangeBasis(A, V, W): \n",
    "    A_vw = np.matmul(np.linalg.inv(W), np.matmul(A, V)) \n",
    "    return A_vw \n",
    "\n",
    "A_vw = matrixChangeBasis(A, V, W) \n",
    "print(A_vw) "
   ]
  },
  {
   "cell_type": "code",
   "execution_count": null,
   "metadata": {},
   "outputs": [],
   "source": []
  }
 ],
 "metadata": {
  "kernelspec": {
   "display_name": "Python 3",
   "language": "python",
   "name": "python3"
  },
  "language_info": {
   "codemirror_mode": {
    "name": "ipython",
    "version": 3
   },
   "file_extension": ".py",
   "mimetype": "text/x-python",
   "name": "python",
   "nbconvert_exporter": "python",
   "pygments_lexer": "ipython3",
   "version": "3.7.1"
  }
 },
 "nbformat": 4,
 "nbformat_minor": 2
}
